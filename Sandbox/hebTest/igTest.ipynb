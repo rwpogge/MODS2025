{
 "cells": [
  {
   "cell_type": "markdown",
   "metadata": {},
   "source": [
    "# Micro-Ion Plus Vaccum Gauge: Test Scripts\n",
    "\n",
    "Updated: 2025 Aug 7 [rwp/osu]\n",
    "\n",
    "This notebook contains simple python functions that you can use to interact with the ion gauge."
   ]
  },
  {
   "cell_type": "markdown",
   "metadata": {},
   "source": [
    "## Importing Libraries and Defining Constants\n",
    "\n",
    " * `GAUGE_IP` is the IP address of the Comtrol Device Master connected via RS485 to the ion gauge\n",
    " * `GAUGE_PORT` is the port on the Comtrol, usually 8018\n",
    "\n",
    "For MODS, the Comtrol IP addresses are as follows.  All are port **8018**\n",
    " * MODS1R: **192.168.139.103**\n",
    " * MODS1B: **192.168.139.113**\n",
    " * MODS2R: **192.168.139.203**\n",
    " * MODS2B: **192.168.139.213**\n",
    "\n",
    "All MODS ion gauges are now confirmed (and set) to RS485 channel **5**."
   ]
  },
  {
   "cell_type": "code",
   "execution_count": 86,
   "metadata": {},
   "outputs": [],
   "source": [
    "import socket\n",
    "\n",
    "#The address:port of an ion-guage.\n",
    "GAUGE_IP = \"192.168.139.103\"\n",
    "GAUGE_PORT = 8018\n",
    "\n",
    "#The maximum length of a string returned by the ion gauge.\n",
    "MESSAGE_SIZE = 16\n",
    "\n",
    "#The maximum amount of time to wait in seconds before aborting socket operations.\n",
    "TIMEOUT = 5"
   ]
  },
  {
   "cell_type": "markdown",
   "metadata": {},
   "source": [
    "## Defining Two Useful Functions"
   ]
  },
  {
   "cell_type": "markdown",
   "metadata": {},
   "source": [
    "**initIonSocket(address, port, timeout)**\n",
    "- address: The IP address of the ion-gauge.\n",
    "- port: The port on which the ion-gauge is connected.\n",
    "- timeout (optional): The maximum amount of time to wait in seconds before the socket throws an exception.\n",
    "- *return*: A TCP socket which has been connected to an ion-gauge.\n",
    "- *An exception will be thrown if a connection can not be made, or if the ion-gauge is unresponsive.*\n",
    "    \n",
    "    \n",
    "**sendIonCommand(ionSocket, command)**\n",
    "- ionSocket: A TCP socket which has been connected to an ion-gauge.\n",
    "- command: A string containing the command which will be sent to the ion-gauge.\n",
    "- *return*: A string with the response message from the ion gauge.\n",
    "- *An exception will be thrown if the command can not be sent, or if a response is never recieved.*"
   ]
  },
  {
   "cell_type": "code",
   "execution_count": 87,
   "metadata": {},
   "outputs": [],
   "source": [
    "def sendIonCommand(ionSocket, command):\n",
    "    #Send and recieve data.\n",
    "    try:\n",
    "        ionSocket.send((command).encode())\n",
    "        data = ionSocket.recv(MESSAGE_SIZE).decode()\n",
    "    except socket.error:\n",
    "        raise Exception(\"Could not send command to ion-guage.\")\n",
    "\n",
    "    #Return the collected data.\n",
    "    return data\n",
    "\n",
    "def initIonSocket(address, port, timeout=\"None\"):\n",
    "    #Creating the socket\n",
    "    ionSocket = socket.socket()\n",
    "\n",
    "    #Setting a timeout in seconds\n",
    "    if(timeout != \"None\"):\n",
    "        ionSocket.settimeout(timeout)\n",
    "    \n",
    "    #Open the TCP connection.\n",
    "    try:\n",
    "        ionSocket.connect((address, port))\n",
    "    except socket.error:\n",
    "        ionSocket.close()\n",
    "        raise Exception(\"Could not connect to ion-gauge.\")\n",
    "    \n",
    "    #Attempting an initial snd/rcv to test connection.\n",
    "    try:\n",
    "        sendIonCommand(ionSocket, \"#05VER\\r\")\n",
    "    except:\n",
    "        ionSocket.close()\n",
    "        raise Exception(\"Connection opened, but communication was not possible. Is the gauge powered on?\")\n",
    "    \n",
    "    #Return the connected socket.\n",
    "    return ionSocket"
   ]
  },
  {
   "cell_type": "markdown",
   "metadata": {},
   "source": [
    "## Usage Instructions"
   ]
  },
  {
   "cell_type": "markdown",
   "metadata": {},
   "source": [
    "To interact with the ion-gauge you should: \n",
    "1. Initialize a socket\n",
    "2. Send commands / Receive responses\n",
    "3. Close the socket\n",
    "\n",
    "When sending commands, ensure that you have included a carriage return `\\r` at the end of the command.\n",
    "<br/><br/>\n",
    "\n",
    "**Commands that do not affect module operation:**\n",
    "| Command    | Purpose            | Example Response | Description                                                                  | \n",
    "| ---------- | ------------------ | ---------------- | ---------------------------------------------------------------------------- |\n",
    "| `#05IGS\\r` | On/Off Status      | `*05 1 IG ON`    | \"1 IG ON\" if the gauge is on. \"0 IG OFF\" if the gauge is off.                |\n",
    "| `#05KBS\\r` | Keyboard Status    | `*05 1 KB OFF`   | \"1 KB ON\" if the buttons are locked. \"1 KB OFF\" if the buttons are unlocked. |\n",
    "| `#05RD\\r`  | Read Pressure      | `*05 9.97E+02`   | Returns measured pressure in the units set on the module (usually torr)      |\n",
    "| `#05RE\\r`  | Read Emission      | `*05 4.0MA EM`   | Returns an emission string. See table 3-15 on page 48.                       |\n",
    "| `#05RF\\r`  | Read Filament      | `*05 FIL SF1`    | \"FIL SF1\", \"FIL SF2\", or \"FILBOTH\" to indicate which filament is operating.  |\n",
    "| `#05RS\\r`  | Read Module Status | `*05 00 ST OK`   | Returns a module status string. See table 3-16 on page 49.                   |\n",
    "| `#05VER\\r` | Get Module Version | `*05 14851-06`   | Returns the part number, a dash, and then the firmware version.              |\n",
    "\n",
    "*Here it is assumed that the RS485 address is set to 5 - that is why all commands and responses are prefixed with 05.*\n",
    "<br/><br/>\n",
    "\n",
    "**Commands that *do* affect module operation:**\n",
    "\n",
    "For commands that do affect module operation, see page 50."
   ]
  },
  {
   "cell_type": "markdown",
   "metadata": {},
   "source": [
    "## Example Script"
   ]
  },
  {
   "cell_type": "code",
   "execution_count": 91,
   "metadata": {},
   "outputs": [
    {
     "name": "stdout",
     "output_type": "stream",
     "text": [
      "*05 1.66E-01\n",
      "*05 00 ST OK\n",
      "*05 14851-06\n",
      "*05 0 IG OFF\n",
      "*05 FIL  SF1\n"
     ]
    }
   ],
   "source": [
    "try:\n",
    "    #Step 1 - Initalizing the socket.\n",
    "    ionSocket = initIonSocket(GAUGE_IP, GAUGE_PORT, TIMEOUT)\n",
    "\n",
    "    #Step 2 - Send commands and recieve responses.\n",
    "    print(sendIonCommand(ionSocket, \"#05RD\\r\"))   # Will print the current gauge pressure reading.\n",
    "    print(sendIonCommand(ionSocket, \"#05RS\\r\"))   # Will print the current status.\n",
    "    print(sendIonCommand(ionSocket, \"#05VER\\r\"))  # Will print the current version.\n",
    "    print(sendIonCommand(ionSocket, \"#05IGS\\r\"))  # will print gauge power status on/off\n",
    "    print(sendIonCommand(ionSocket, \"#05RF\\r\"))  # will print filament status\n",
    "\n",
    "    #Step 3 - Closing the socket.\n",
    "    ionSocket.close()\n",
    "except Exception as e:\n",
    "    print(\"[Error]: \" + str(e))"
   ]
  },
  {
   "cell_type": "code",
   "execution_count": null,
   "metadata": {},
   "outputs": [],
   "source": []
  }
 ],
 "metadata": {
  "kernelspec": {
   "display_name": "Python 3 (ipykernel)",
   "language": "python",
   "name": "python3"
  },
  "language_info": {
   "codemirror_mode": {
    "name": "ipython",
    "version": 3
   },
   "file_extension": ".py",
   "mimetype": "text/x-python",
   "name": "python",
   "nbconvert_exporter": "python",
   "pygments_lexer": "ipython3",
   "version": "3.12.7"
  }
 },
 "nbformat": 4,
 "nbformat_minor": 4
}
