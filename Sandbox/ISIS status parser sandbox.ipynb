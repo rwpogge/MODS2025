{
 "cells": [
  {
   "cell_type": "markdown",
   "id": "c147688f",
   "metadata": {},
   "source": [
    "# ISIS status parser sandbox\n"
   ]
  },
  {
   "cell_type": "code",
   "execution_count": 1,
   "id": "0d589dae",
   "metadata": {},
   "outputs": [],
   "source": [
    "import os\n",
    "import math\n",
    "import re\n"
   ]
  },
  {
   "cell_type": "markdown",
   "id": "b71b8460",
   "metadata": {},
   "source": [
    "## very basic isis key=value string parser\n",
    "\n",
    "source https://github.com/LBTO/ahs/blob/master/python/src/lbto-ahs-modsalert"
   ]
  },
  {
   "cell_type": "code",
   "execution_count": 2,
   "id": "5152f8a6",
   "metadata": {},
   "outputs": [],
   "source": [
    "\n",
    "def impParser(t:str, header:str, parse):\n",
    "    knownTypes = {'int':int,'float':float,'str':str}\n",
    "    \n",
    "    s = t.find(header)\n",
    "    if s == -1:\n",
    "        return None\n",
    "    t = t[s:].lstrip(header).strip().split()\n",
    "    result = dict()\n",
    "    for e in t:\n",
    "        e = e.split('=')\n",
    "        if len(e) != 2:\n",
    "            continue\n",
    "        k, v = e\n",
    "        try:\n",
    "            result[k]= knownTypes[parse.get(k)](v)\n",
    "            if parse[k] == 'str':\n",
    "                result[k] = re.sub(\"[\\\"\\']\",\"\",result[k])\n",
    "        except:\n",
    "            pass\n",
    "    return None if len(result)==0 else result"
   ]
  },
  {
   "cell_type": "markdown",
   "id": "a5944f7d",
   "metadata": {},
   "source": [
    "## sample real istatus string\n",
    "\n",
    "and keyword lists harvested from `azcam.db.tools[\"instrument\"].header.keywords`, `values`, and `typestrings`"
   ]
  },
  {
   "cell_type": "code",
   "execution_count": 3,
   "id": "88464d7d",
   "metadata": {},
   "outputs": [],
   "source": [
    "istatus_B = \"DONE: ISTATUS HATCH=CLOSED CALIB=IN CALLAMPS='None' VFLAT=10.0 SLITMASK=7 MASKPOS=IN MASKNAME='LS5x60x1.0' MASKINFO='1.0 arcsec Segmented Long Slit' AGWXGP=-89.680 AGWYGP=-243.330 AGWFOCUS=0.000 AGWXWFS=-89.680 AGWYWFS=-243.330 AGWXS=0.000 AGWYS=0.000 AGWFS=0.000 AGWFS0=38.500 AGWFILT=1 AGWFNAME='Clear' AGWFINFO='Edmund Clear FuSi 50x5mm' DICHROIC=2 DICHNAME='Dual' DICHINFO='CSIRO 575nm Dichroic Nr1' IRLASER=ON IRBEAM=ENABLED IRPSET=1.0 IRPOUT=1.1 IRTSET=25.5 IRTEMP=25.4 CHANNEL=BLUE COLTTFA=16825 COLTTFB=18074 COLTTFC=20000 COLFOCUS=18300 GRATING=2 GRATNAME='G400L' GRATINFO='400l/mm Blue Grating RGL MR162-2-7-1' GRATTILT=19884 CAMFOCUS=3440 FILTER=5 FILTNAME='UG5' FILTINFO='Omega UG5+FS 128x86x6mm Nr1' IEBTEMPR=8.0 IEBGRT_R=3.4 TAIRTOP=4.4 TAIRBOT=4.5 IEBTEMPB=6.8 IEBGRT_B=3.3 TCOLLTOP=3.5 TCOLLBOT=-10.5 GSPRES=31.1 GSTEMP=3.4 GRPRES=29.1 GRTEMP=4.2 IUBTAIR=12.7 AMBTEMP=5.8 AGHSTEMP=NOCOMM\"\n",
    "\n",
    "keyList = ['FILTER', 'HATCH', 'CALIB', 'CALLAMPS', 'VFLAT', 'SLITMASK', 'MASKPOS', 'MASKNAME', 'MASKINFO', 'DICHROIC', 'DICHNAME', 'DICHINFO', 'COLFOCUS', 'COLTTFA', 'COLTTFB', 'COLTTFC', 'GRATING', 'GRATNAME', 'GRATINFO', 'GRATTILT', 'FILTNAME', 'FILTINFO', 'CAMFOCUS', 'IRLASER', 'IRBEAM', 'IRPSET', 'IRPOUT', 'IRTEMP', 'IRTSET', 'AGWXGP', 'AGWYGP', 'AGWFOCUS', 'AGWFILT', 'AGWFNAME', 'AGWFINFO', 'AGWXS', 'AGWYS', 'AGWFS', 'AGWFS0', 'AGWXWFS', 'AGWYWFS', 'DEWPRES', 'DEWTEMP', 'CCDTEMP', 'HEBTEMP', 'IGPOWER', 'ARPOWER', 'AMBTEMP', 'TAIRTOP', 'TAIRBOT', 'TCOLLTOP', 'TCOLLBOT', 'IEBTEMPB', 'IEBGRT_B', 'IEBTEMPR', 'IEBGRT_R', 'IUBTAIR', 'AGHSTEMP', 'GSPRES', 'GSTEMP', 'GRPRES', 'GRTEMP']\n",
    "\n",
    "types = {'FILTER': 'int', 'HATCH': 'str', 'CALIB': 'str', 'CALLAMPS': 'str', 'VFLAT': 'float',         'SLITMASK': 'int', 'MASKPOS': 'str', 'MASKNAME': 'str', 'MASKINFO': 'str', 'DICHROIC': 'int',         'DICHNAME': 'str', 'DICHINFO': 'str', 'COLFOCUS': 'int', 'COLTTFA': 'int', 'COLTTFB': 'int',         'COLTTFC': 'int','GRATING': 'int', 'GRATNAME': 'str', 'GRATINFO': 'str', 'GRATTILT': 'int',         'FILTNAME': 'str', 'FILTINFO': 'str', 'CAMFOCUS': 'int', 'IRLASER': 'str', 'IRBEAM': 'str',         'IRPSET': 'float', 'IRPOUT': 'float', 'IRTEMP': 'float', 'IRTSET': 'float', 'AGWXGP': 'float',         'AGWYGP': 'float', 'AGWFOCUS': 'float', 'AGWFILT': 'int', 'AGWFNAME': 'str', 'AGWFINFO': 'str',         'AGWXS': 'float', 'AGWYS': 'float', 'AGWFS': 'float', 'AGWFS0': 'float', 'AGWXWFS': 'float',         'AGWYWFS': 'float', 'DEWPRES': 'float', 'DEWTEMP': 'float', 'CCDTEMP': 'float', 'HEBTEMP': 'float',         'IGPOWER': 'str', 'ARPOWER': 'str', 'AMBTEMP': 'float', 'TAIRTOP': 'float', 'TAIRBOT': 'float',\n",
    "         'TCOLLTOP': 'float', 'TCOLLBOT': 'float', 'IEBTEMPB': 'float', 'IEBGRT_B': 'float',\n",
    "         'IEBTEMPR': 'float', 'IEBGRT_R': 'float', 'IUBTAIR': 'float', 'AGHSTEMP': 'float', 'GSPRES': 'float',\n",
    "         'GSTEMP': 'float', 'GRPRES': 'float', 'GRTEMP': 'float'}\n"
   ]
  },
  {
   "cell_type": "markdown",
   "id": "70f5d2d9",
   "metadata": {},
   "source": [
    "### parse into list of values aligned with template"
   ]
  },
  {
   "cell_type": "code",
   "execution_count": 4,
   "id": "9810ba3f",
   "metadata": {},
   "outputs": [
    {
     "name": "stdout",
     "output_type": "stream",
     "text": [
      "{'FILTER': 5, 'HATCH': 'CLOSED', 'CALIB': 'IN', 'CALLAMPS': 'None', 'VFLAT': 10.0, 'SLITMASK': 7, 'MASKPOS': 'IN', 'MASKNAME': 'LS5x60x1.0', 'MASKINFO': '1.0', 'DICHROIC': 2, 'DICHNAME': 'Dual', 'DICHINFO': 'CSIRO', 'COLFOCUS': 18300, 'COLTTFA': 16825, 'COLTTFB': 18074, 'COLTTFC': 20000, 'GRATING': 2, 'GRATNAME': 'G400L', 'GRATINFO': '400l/mm', 'GRATTILT': 19884, 'FILTNAME': 'UG5', 'FILTINFO': 'Omega', 'CAMFOCUS': 3440, 'IRLASER': 'ON', 'IRBEAM': 'ENABLED', 'IRPSET': 1.0, 'IRPOUT': 1.1, 'IRTEMP': 25.4, 'IRTSET': 25.5, 'AGWXGP': -89.68, 'AGWYGP': -243.33, 'AGWFOCUS': 0.0, 'AGWFILT': 1, 'AGWFNAME': 'Clear', 'AGWFINFO': 'Edmund', 'AGWXS': 0.0, 'AGWYS': 0.0, 'AGWFS': 0.0, 'AGWFS0': 38.5, 'AGWXWFS': -89.68, 'AGWYWFS': -243.33, 'DEWPRES': 0.0, 'DEWTEMP': 0.0, 'CCDTEMP': 0.0, 'HEBTEMP': 0.0, 'IGPOWER': 'UNKNOWN', 'ARPOWER': 'UNKNOWN', 'AMBTEMP': 5.8, 'TAIRTOP': 4.4, 'TAIRBOT': 4.5, 'TCOLLTOP': 3.5, 'TCOLLBOT': -10.5, 'IEBTEMPB': 6.8, 'IEBGRT_B': 3.3, 'IEBTEMPR': 8.0, 'IEBGRT_R': 3.4, 'IUBTAIR': 12.7, 'AGHSTEMP': 0.0, 'GSPRES': 31.1, 'GSTEMP': 3.4, 'GRPRES': 29.1, 'GRTEMP': 4.2}\n"
     ]
    }
   ],
   "source": [
    "istatDict = impParser(istatus_B,\"DONE: ISTATUS\",types)\n",
    "\n",
    "# istatDict is in order of data received. Copy into a values dictionary in the correct order\n",
    "\n",
    "values = {}\n",
    "for key in keyList:\n",
    "    if key in istatDict:\n",
    "        values[key] = istatDict[key]\n",
    "    else:\n",
    "        if types[key] == 'int':\n",
    "            values[key] = 0\n",
    "        elif types[key] == 'float':\n",
    "            values[key] = 0.0\n",
    "        else:\n",
    "            values[key] = 'UNKNOWN'\n",
    "\n",
    "print(values)\n"
   ]
  },
  {
   "cell_type": "markdown",
   "id": "997239d1-687c-46b0-aac8-b6c8548599d9",
   "metadata": {},
   "source": [
    "## Fun times...\n",
    "\n",
    "Turns out if = is in a command argument sent to the azcam command server, it thinks it is a parameter to pass.  Oops.\n",
    "\n",
    "Totally breaks the concept of passing the ISTATUS string to the server and doing the parsing in place.\n",
    "\n",
    "Awesome!\n",
    "\n",
    "Try something radical.  Take the parsed dictionary of values and convert it into one loooooooong string that looks like a\n",
    "yaml file..."
   ]
  },
  {
   "cell_type": "code",
   "execution_count": 8,
   "id": "04a0d340-623e-4609-8495-576b09a912d7",
   "metadata": {},
   "outputs": [
    {
     "name": "stdout",
     "output_type": "stream",
     "text": [
      "FILTER: 5\n",
      "HATCH: CLOSED\n",
      "CALIB: IN\n",
      "CALLAMPS: None\n",
      "VFLAT: 10.0\n",
      "SLITMASK: 7\n",
      "MASKPOS: IN\n",
      "MASKNAME: LS5x60x1.0\n",
      "MASKINFO: 1.0\n",
      "DICHROIC: 2\n",
      "DICHNAME: Dual\n",
      "DICHINFO: CSIRO\n",
      "COLFOCUS: 18300\n",
      "COLTTFA: 16825\n",
      "COLTTFB: 18074\n",
      "COLTTFC: 20000\n",
      "GRATING: 2\n",
      "GRATNAME: G400L\n",
      "GRATINFO: 400l/mm\n",
      "GRATTILT: 19884\n",
      "FILTNAME: UG5\n",
      "FILTINFO: Omega\n",
      "CAMFOCUS: 3440\n",
      "IRLASER: ON\n",
      "IRBEAM: ENABLED\n",
      "IRPSET: 1.0\n",
      "IRPOUT: 1.1\n",
      "IRTEMP: 25.4\n",
      "IRTSET: 25.5\n",
      "AGWXGP: -89.68\n",
      "AGWYGP: -243.33\n",
      "AGWFOCUS: 0.0\n",
      "AGWFILT: 1\n",
      "AGWFNAME: Clear\n",
      "AGWFINFO: Edmund\n",
      "AGWXS: 0.0\n",
      "AGWYS: 0.0\n",
      "AGWFS: 0.0\n",
      "AGWFS0: 38.5\n",
      "AGWXWFS: -89.68\n",
      "AGWYWFS: -243.33\n",
      "DEWPRES: 0.0\n",
      "DEWTEMP: 0.0\n",
      "CCDTEMP: 0.0\n",
      "HEBTEMP: 0.0\n",
      "IGPOWER: UNKNOWN\n",
      "ARPOWER: UNKNOWN\n",
      "AMBTEMP: 5.8\n",
      "TAIRTOP: 4.4\n",
      "TAIRBOT: 4.5\n",
      "TCOLLTOP: 3.5\n",
      "TCOLLBOT: -10.5\n",
      "IEBTEMPB: 6.8\n",
      "IEBGRT_B: 3.3\n",
      "IEBTEMPR: 8.0\n",
      "IEBGRT_R: 3.4\n",
      "IUBTAIR: 12.7\n",
      "AGHSTEMP: 0.0\n",
      "GSPRES: 31.1\n",
      "GSTEMP: 3.4\n",
      "GRPRES: 29.1\n",
      "GRTEMP: 4.2\n",
      "\n"
     ]
    }
   ],
   "source": [
    "yamlStr = \"\"\n",
    "for key in values.keys():\n",
    "    yamlStr += f\"{key}: {values[key]}\\n\"\n",
    "\n",
    "print(yamlStr)"
   ]
  },
  {
   "cell_type": "markdown",
   "id": "47950c39-453f-4c4f-a82f-c42160b77950",
   "metadata": {},
   "source": [
    "### now, unpack on the receiving end using pyYaml"
   ]
  },
  {
   "cell_type": "code",
   "execution_count": 11,
   "id": "372bd368-ea51-4846-b13f-776a14ef1c84",
   "metadata": {},
   "outputs": [
    {
     "name": "stdout",
     "output_type": "stream",
     "text": [
      "{'FILTER': 5, 'HATCH': 'CLOSED', 'CALIB': 'IN', 'CALLAMPS': 'None', 'VFLAT': 10.0, 'SLITMASK': 7, 'MASKPOS': 'IN', 'MASKNAME': 'LS5x60x1.0', 'MASKINFO': 1.0, 'DICHROIC': 2, 'DICHNAME': 'Dual', 'DICHINFO': 'CSIRO', 'COLFOCUS': 18300, 'COLTTFA': 16825, 'COLTTFB': 18074, 'COLTTFC': 20000, 'GRATING': 2, 'GRATNAME': 'G400L', 'GRATINFO': '400l/mm', 'GRATTILT': 19884, 'FILTNAME': 'UG5', 'FILTINFO': 'Omega', 'CAMFOCUS': 3440, 'IRLASER': True, 'IRBEAM': 'ENABLED', 'IRPSET': 1.0, 'IRPOUT': 1.1, 'IRTEMP': 25.4, 'IRTSET': 25.5, 'AGWXGP': -89.68, 'AGWYGP': -243.33, 'AGWFOCUS': 0.0, 'AGWFILT': 1, 'AGWFNAME': 'Clear', 'AGWFINFO': 'Edmund', 'AGWXS': 0.0, 'AGWYS': 0.0, 'AGWFS': 0.0, 'AGWFS0': 38.5, 'AGWXWFS': -89.68, 'AGWYWFS': -243.33, 'DEWPRES': 0.0, 'DEWTEMP': 0.0, 'CCDTEMP': 0.0, 'HEBTEMP': 0.0, 'IGPOWER': 'UNKNOWN', 'ARPOWER': 'UNKNOWN', 'AMBTEMP': 5.8, 'TAIRTOP': 4.4, 'TAIRBOT': 4.5, 'TCOLLTOP': 3.5, 'TCOLLBOT': -10.5, 'IEBTEMPB': 6.8, 'IEBGRT_B': 3.3, 'IEBTEMPR': 8.0, 'IEBGRT_R': 3.4, 'IUBTAIR': 12.7, 'AGHSTEMP': 0.0, 'GSPRES': 31.1, 'GSTEMP': 3.4, 'GRPRES': 29.1, 'GRTEMP': 4.2}\n",
      "FILTER=5 HATCH=CLOSED CALIB=IN CALLAMPS=None VFLAT=10.0 SLITMASK=7 MASKPOS=IN MASKNAME=LS5x60x1.0 MASKINFO=1.0 DICHROIC=2 DICHNAME=Dual DICHINFO=CSIRO COLFOCUS=18300 COLTTFA=16825 COLTTFB=18074 COLTTFC=20000 GRATING=2 GRATNAME=G400L GRATINFO=400l/mm GRATTILT=19884 FILTNAME=UG5 FILTINFO=Omega CAMFOCUS=3440 IRLASER=True IRBEAM=ENABLED IRPSET=1.0 IRPOUT=1.1 IRTEMP=25.4 IRTSET=25.5 AGWXGP=-89.68 AGWYGP=-243.33 AGWFOCUS=0.0 AGWFILT=1 AGWFNAME=Clear AGWFINFO=Edmund AGWXS=0.0 AGWYS=0.0 AGWFS=0.0 AGWFS0=38.5 AGWXWFS=-89.68 AGWYWFS=-243.33 DEWPRES=0.0 DEWTEMP=0.0 CCDTEMP=0.0 HEBTEMP=0.0 IGPOWER=UNKNOWN ARPOWER=UNKNOWN AMBTEMP=5.8 TAIRTOP=4.4 TAIRBOT=4.5 TCOLLTOP=3.5 TCOLLBOT=-10.5 IEBTEMPB=6.8 IEBGRT_B=3.3 IEBTEMPR=8.0 IEBGRT_R=3.4 IUBTAIR=12.7 AGHSTEMP=0.0 GSPRES=31.1 GSTEMP=3.4 GRPRES=29.1 GRTEMP=4.2 \n"
     ]
    }
   ],
   "source": [
    "import yaml\n",
    "\n",
    "data = yaml.safe_load(yamlStr)\n",
    "\n",
    "print(data)\n",
    "\n",
    "reply = \"\"\n",
    "for key in data.keys():\n",
    "    reply += f\"{key}={data[key]} \"\n",
    "\n",
    "print(reply)\n"
   ]
  },
  {
   "cell_type": "code",
   "execution_count": 17,
   "id": "ebd60f90-dfaf-49f5-a4a1-3d5f5a89d810",
   "metadata": {},
   "outputs": [
    {
     "name": "stdout",
     "output_type": "stream",
     "text": [
      "FILTER: 5|HATCH: CLOSED|\n",
      "FILTER: 5\n",
      "HATCH: CLOSED\n",
      "\n",
      "{'FILTER': 5, 'HATCH': 'CLOSED'}\n"
     ]
    }
   ],
   "source": [
    "fooStr = \"FILTER: 5|HATCH: CLOSED|\"\n",
    "print(fooStr)\n",
    "\n",
    "newfoo = fooStr.replace(\"|\",\"\\n\")\n",
    "print(newfoo)\n",
    "\n",
    "data = yaml.safe_load(newfoo)\n",
    "\n",
    "print(data)"
   ]
  },
  {
   "cell_type": "code",
   "execution_count": 19,
   "id": "ab3b933e-0393-43d3-8592-b29073b80342",
   "metadata": {},
   "outputs": [
    {
     "name": "stdout",
     "output_type": "stream",
     "text": [
      "FILTER:5|HATCH:CLOSED|CALIB:IN|CALLAMPS:None|VFLAT:10.0|SLITMASK:7|MASKPOS:IN|MASKNAME:LS5x60x1.0|MASKINFO:1.0|DICHROIC:2|DICHNAME:Dual|DICHINFO:CSIRO|COLFOCUS:18300|COLTTFA:16825|COLTTFB:18074|COLTTFC:20000|GRATING:2|GRATNAME:G400L|GRATINFO:400l/mm|GRATTILT:19884|FILTNAME:UG5|FILTINFO:Omega|CAMFOCUS:3440|IRLASER:ON|IRBEAM:ENABLED|IRPSET:1.0|IRPOUT:1.1|IRTEMP:25.4|IRTSET:25.5|AGWXGP:-89.68|AGWYGP:-243.33|AGWFOCUS:0.0|AGWFILT:1|AGWFNAME:Clear|AGWFINFO:Edmund|AGWXS:0.0|AGWYS:0.0|AGWFS:0.0|AGWFS0:38.5|AGWXWFS:-89.68|AGWYWFS:-243.33|DEWPRES:0.0|DEWTEMP:0.0|CCDTEMP:0.0|HEBTEMP:0.0|IGPOWER:UNKNOWN|ARPOWER:UNKNOWN|AMBTEMP:5.8|TAIRTOP:4.4|TAIRBOT:4.5|TCOLLTOP:3.5|TCOLLBOT:-10.5|IEBTEMPB:6.8|IEBGRT_B:3.3|IEBTEMPR:8.0|IEBGRT_R:3.4|IUBTAIR:12.7|AGHSTEMP:0.0|GSPRES:31.1|GSTEMP:3.4|GRPRES:29.1|GRTEMP:4.2|\n"
     ]
    }
   ],
   "source": [
    "isisStr = \"\"\n",
    "for key in values.keys():\n",
    "    isisStr += f\"{key}:{values[key]}|\"\n",
    "\n",
    "print(isisStr)"
   ]
  },
  {
   "cell_type": "code",
   "execution_count": null,
   "id": "ccdd31d7-3baa-424d-9465-467bcb0f1df9",
   "metadata": {},
   "outputs": [],
   "source": []
  }
 ],
 "metadata": {
  "kernelspec": {
   "display_name": "Python 3 (ipykernel)",
   "language": "python",
   "name": "python3"
  },
  "language_info": {
   "codemirror_mode": {
    "name": "ipython",
    "version": 3
   },
   "file_extension": ".py",
   "mimetype": "text/x-python",
   "name": "python",
   "nbconvert_exporter": "python",
   "pygments_lexer": "ipython3",
   "version": "3.12.2"
  }
 },
 "nbformat": 4,
 "nbformat_minor": 5
}
